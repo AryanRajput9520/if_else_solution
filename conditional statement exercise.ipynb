{
 "cells": [
  {
   "cell_type": "markdown",
   "id": "16bcd1fe-d028-4e0f-9726-b83db43d40ec",
   "metadata": {},
   "source": [
    "Q2. Write a program to accept percentage from the user and display\n",
    "the grade according to the following criteria:\n",
    "\n",
    "Marks Grade\n",
    "> 90 A\n",
    "> 80 and <= 90 B\n",
    ">= 60 and <= 80 C\n",
    "below 60 D"
   ]
  },
  {
   "cell_type": "code",
   "execution_count": 1,
   "id": "36c47b9c-6671-424d-a3c4-c465cff48ea8",
   "metadata": {},
   "outputs": [
    {
     "name": "stdin",
     "output_type": "stream",
     "text": [
      "Enter your percentage :  60\n"
     ]
    },
    {
     "name": "stdout",
     "output_type": "stream",
     "text": [
      "Grade: C\n"
     ]
    }
   ],
   "source": [
    "percentage = int(input(\"Enter your percentage : \"))\n",
    "if percentage < 0 and percentage > 100\n",
    "if percentage > 90:\n",
    "    print(\"Grade: A\")\n",
    "elif percentage > 80 and percentage <= 90:\n",
    "    print(\"Grade: B\")\n",
    "elif percentage >= 60 and percentage <= 80:\n",
    "    print(\"Grade: C\")\n",
    "else:\n",
    "    print(\"Grade: D\")"
   ]
  },
  {
   "cell_type": "markdown",
   "id": "7c6383bd-f88a-4509-848d-8e1394226e44",
   "metadata": {},
   "source": [
    "# Q3. Accept the age of 4 people and display the youngest one?"
   ]
  },
  {
   "cell_type": "code",
   "execution_count": 2,
   "id": "97d05acb-1f11-4d5d-9d4c-c96b17b304ec",
   "metadata": {},
   "outputs": [
    {
     "name": "stdin",
     "output_type": "stream",
     "text": [
      "Enter the first person age :  456\n",
      "Enter the second person age :  654\n",
      "Enter the third person age :  54\n",
      "Enter the forth person age :  1\n"
     ]
    },
    {
     "name": "stdout",
     "output_type": "stream",
     "text": [
      "the youngest age is : 1\n"
     ]
    }
   ],
   "source": [
    "age1 = int(input(\"Enter the first person age : \"))\n",
    "age2 = int(input(\"Enter the second person age : \"))\n",
    "age3 = int(input(\"Enter the third person age : \"))\n",
    "age4 = int(input(\"Enter the forth person age : \"))\n",
    "\n",
    "youngest = min(age1,age2,age3,age4)\n",
    "print(\"the youngest age is :\",youngest)"
   ]
  },
  {
   "cell_type": "markdown",
   "id": "7780f3f0-8183-4f19-b177-37af60b0f8bb",
   "metadata": {},
   "source": [
    "# Q4. A company decided to give bonus to employee according to following criteria:\n",
    "\n",
    "# Time period of Service Bonus\n",
    "\n",
    "# More than 10 years 10%\n",
    "\n",
    "# >=6 and <=10 8%\n",
    "\n",
    "# Less than 6 years 5%\n",
    "\n",
    "# Ask user for their salary and years of service and print the net bonus amount?"
   ]
  },
  {
   "cell_type": "code",
   "execution_count": 9,
   "id": "59bbb67a-8988-4d03-a7b4-7255e926e84d",
   "metadata": {},
   "outputs": [
    {
     "name": "stdin",
     "output_type": "stream",
     "text": [
      "Enter the salary :  45000\n",
      "Enter the year of srvice :  12\n"
     ]
    },
    {
     "name": "stdout",
     "output_type": "stream",
     "text": [
      " net_bonus :  4500.0\n"
     ]
    }
   ],
   "source": [
    "salary = float(input(\"Enter the salary : \"))\n",
    "year = float(input(\"Enter the year of srvice : \"))\n",
    "\n",
    "if year > 10 :\n",
    "    net_bonus = (10/100) * salary\n",
    "if year >= 6 and year <= 10 :\n",
    "    net_bonus = (8/100) * salary\n",
    "if year < 6 :\n",
    "    net_bonus = (5/100) * salary\n",
    "print(\" net_bonus : \", net_bonus)"
   ]
  },
  {
   "cell_type": "markdown",
   "id": "661f5a6c-5086-4a2e-87f5-9d8d1b3d247d",
   "metadata": {},
   "source": [
    "# Q5. Accept three numbers from the user and display the second largest number?"
   ]
  },
  {
   "cell_type": "code",
   "execution_count": 1,
   "id": "dea9afb7-213a-4d47-98ef-dfa0db1ceb5b",
   "metadata": {},
   "outputs": [
    {
     "name": "stdin",
     "output_type": "stream",
     "text": [
      "Enter the first number:  20\n",
      "Enter the second number:  25\n",
      "Enter the third number:  12\n"
     ]
    },
    {
     "name": "stdout",
     "output_type": "stream",
     "text": [
      "second_largest is :  20\n"
     ]
    }
   ],
   "source": [
    "a = int(input(\"Enter the first number: \"))\n",
    "b = int(input(\"Enter the second number: \"))\n",
    "c = int(input(\"Enter the third number: \"))\n",
    "\n",
    "if a>b and a<c or a<b and a>c:\n",
    "    second_largest = a\n",
    "if b>c and b<a or b<c and b>a:\n",
    "    second_largest = b\n",
    "if c>a and c<b or c<a and c>b:\n",
    "    second_largest = c\n",
    "print(\"second_largest is : \",second_largest)\n",
    "\n"
   ]
  },
  {
   "cell_type": "markdown",
   "id": "88b937a7-0d8d-4499-b0d7-c8cf52312be3",
   "metadata": {},
   "source": [
    "# Q6. Accept the marked price from the user and calculate the Net amount as (Marked Price – Discount) to pay according to following criteria:\n",
    "\n",
    "# Marked Price          Discount\n",
    "# >10000                   20%\n",
    "# >7000 and <=10000        15%\n",
    "# <=7000                   10%"
   ]
  },
  {
   "cell_type": "code",
   "execution_count": 3,
   "id": "66b40e29-bd97-47a9-ba36-9a0b0fac91e8",
   "metadata": {},
   "outputs": [
    {
     "name": "stdin",
     "output_type": "stream",
     "text": [
      "enter your marked_price: 11000\n"
     ]
    },
    {
     "name": "stdout",
     "output_type": "stream",
     "text": [
      "Marked Price: ₹11000.0\n",
      "Discount Applied: ₹2200.0\n",
      "Net Amount to Pay: ₹8800.0\n"
     ]
    }
   ],
   "source": [
    "marked_price=float(input(\"enter your marked_price:\"))\n",
    "\n",
    "if marked_price>10000:\n",
    "    discount_rate=0.20\n",
    "    \n",
    "elif marked_price>7000 and marked_price<10000:\n",
    "    discount_rate=0.15\n",
    "    \n",
    "else:\n",
    "    discount_rate=0.10\n",
    "    \n",
    "discount = marked_price * discount_rate \n",
    "\n",
    "net_amount = marked_price-discount\n",
    "\n",
    "print(f\"Marked Price: ₹{marked_price}\")\n",
    "print(f\"Discount Applied: ₹{discount}\")\n",
    "print(f\"Net Amount to Pay: ₹{net_amount}\")"
   ]
  },
  {
   "cell_type": "markdown",
   "id": "4b206a03-a000-4291-ac7c-f44ee5700470",
   "metadata": {},
   "source": [
    "# Q8. Write a program to display \"Hello\" if a number entered by user is a multiple of five, otherwise print \"Bye\"?"
   ]
  },
  {
   "cell_type": "code",
   "execution_count": 5,
   "id": "dec8e000-6e23-4389-bda1-482e8c64a3d0",
   "metadata": {},
   "outputs": [
    {
     "name": "stdin",
     "output_type": "stream",
     "text": [
      "Enter the number 40\n"
     ]
    },
    {
     "name": "stdout",
     "output_type": "stream",
     "text": [
      "Hello\n"
     ]
    }
   ],
   "source": [
    "number = int(input(\"Enter the number\"))\n",
    "if number % 5 == 0 :\n",
    "    print(\"Hello\")\n",
    "else:\n",
    "    print(\"Bye\")"
   ]
  },
  {
   "cell_type": "markdown",
   "id": "fb36efa3-ab2a-45e7-850c-3fdccead4795",
   "metadata": {},
   "source": [
    "# Q9. Write a program to check whether the last digit of a number (entered by user) is divisible by 3 or not?"
   ]
  },
  {
   "cell_type": "code",
   "execution_count": 2,
   "id": "3164e80d-d8ff-4f97-acdf-715434adf2d1",
   "metadata": {},
   "outputs": [
    {
     "name": "stdin",
     "output_type": "stream",
     "text": [
      "Enter the number :  456\n"
     ]
    },
    {
     "name": "stdout",
     "output_type": "stream",
     "text": [
      "The last digit number 6 is divisible by 3\n"
     ]
    }
   ],
   "source": [
    "number = input(\"Enter the number : \")\n",
    "last_digit = number[-1]\n",
    "last_digit = int(last_digit)\n",
    "if last_digit % 3 == 0 :\n",
    "    print(f\"The last digit number {last_digit} is divisible by 3\")\n",
    "else:\n",
    "    print(f\"The last digit number {last_digit} is not divisible by 3\")"
   ]
  },
  {
   "cell_type": "markdown",
   "id": "c445fabd-0253-44ff-8023-10b338be4bdc",
   "metadata": {},
   "source": [
    "# Q1. Write a program to calculate the electricity bill using only if statement? (accept number of unit from user) according to the following criteria:\n",
    "\n",
    "Unit Price\n",
    "First 100 units no charge\n",
    "Next 100 units Rs 5 per unit\n",
    "After 200 units Rs 10 per unit\n",
    "(For example, if input unit is 350 than total bill amount is Rs2000). Lets explain...\n",
    "For first 100 no charges\n",
    "Now you have 250 unit remaining\n",
    "100-200 you need to pay – 100*5 = 500\n",
    "Now 200-100 you need to pay 150*10 = 1500\n",
    "Total = 500+1500 = 2000"
   ]
  },
  {
   "cell_type": "code",
   "execution_count": 2,
   "id": "a95c34d3-9ffe-451b-bbfb-e8caaed6d04a",
   "metadata": {},
   "outputs": [
    {
     "name": "stdin",
     "output_type": "stream",
     "text": [
      "enter user unit 456\n"
     ]
    },
    {
     "name": "stdout",
     "output_type": "stream",
     "text": [
      "total electricity is :₹ 3060\n"
     ]
    }
   ],
   "source": [
    "user_unit= int(input(\"enter user unit\"))\n",
    "bill = 0\n",
    "if user_unit > 100:\n",
    "    if user_unit >200:\n",
    "        bill += (user_unit-200)*10\n",
    "        bill+= 100*5\n",
    "    else:\n",
    "        bill+=(user_unit-100)*5\n",
    "        \n",
    "print(\"total electricity is :₹\",bill)"
   ]
  },
  {
   "cell_type": "markdown",
   "id": "2d244416-bf23-4db9-b8d7-741a4bd0acfa",
   "metadata": {},
   "source": [
    "# Q7. Accept the marks of English, Math and Science, Social Studies Subject and display the stream allotted according to following:\n",
    "\n",
    "All Subjects more than 80 marks — Science Stream\n",
    "\n",
    "English >80 and Math, Science above 50 — Commerce Stream\n",
    "\n",
    "English > 80 and social studies > 80 — Humanities"
   ]
  },
  {
   "cell_type": "code",
   "execution_count": 5,
   "id": "1b0c49ec-e43f-45a0-9213-5cbaca2491d4",
   "metadata": {},
   "outputs": [
    {
     "name": "stdin",
     "output_type": "stream",
     "text": [
      "Enter your marks in english :  58\n",
      "Enter your marks in maths :  65\n",
      "Enter your marks in science :  8\n",
      "Enter your marks in social studies :  32\n"
     ]
    },
    {
     "name": "stdout",
     "output_type": "stream",
     "text": [
      "stream allocated : social studies\n"
     ]
    }
   ],
   "source": [
    "english_marks = float(input(\"Enter your marks in english : \"))\n",
    "maths_marks = float(input(\"Enter your marks in maths : \"))\n",
    "science_marks = float(input(\"Enter your marks in science : \"))\n",
    "social_studies_marks = float(input(\"Enter your marks in social studies : \"))\n",
    "\n",
    "if english_marks > 80 and maths_marks > 80 and science_marks > 80 and social_studies_marks > 80 :\n",
    "    print(\"stream allocated : science stream\")\n",
    "elif english_marks > 80 and maths_marks > 80 and science_marks > 50 :\n",
    "    print(\"stream allocated : commerce stream\")\n",
    "else:\n",
    "    print(\"stream allocated : social studies\")"
   ]
  },
  {
   "cell_type": "markdown",
   "id": "268977c7-d1fb-457c-9b26-d9ee39683d20",
   "metadata": {},
   "source": [
    "# Q10. Write a program to check whether a number entered is three-digit number or not?"
   ]
  },
  {
   "cell_type": "code",
   "execution_count": 2,
   "id": "7ce47ba4-b819-4717-a518-c2fd1b207c64",
   "metadata": {},
   "outputs": [
    {
     "name": "stdin",
     "output_type": "stream",
     "text": [
      "Enter a Number 999\n"
     ]
    },
    {
     "name": "stdout",
     "output_type": "stream",
     "text": [
      "The number is a three digit number\n"
     ]
    }
   ],
   "source": [
    "number = int(input(\"Enter a Number\"))\n",
    "\n",
    "if number >=100 and number <= 999 :\n",
    "    print(\"The number is a three digit number\")\n",
    "\n",
    "else:\n",
    "    print(\"The number is not a three digit number\")"
   ]
  },
  {
   "cell_type": "markdown",
   "id": "76721a84-f1b2-49af-b3e3-3c81c3a14a46",
   "metadata": {},
   "source": [
    "# Q1. Write a program to calculate the electricity bill using only if statement? (accept number of unit from user) according to the following criteria:\n",
    "\n",
    "Unit Price\n",
    "First 100 units no charge\n",
    "Next 100 units Rs 5 per unit\n",
    "After 200 units Rs 10 per unit\n",
    "(For example, if input unit is 350 than total bill amount is Rs2000). Lets explain...\n",
    "For first 100 no charges\n",
    "Now you have 250 unit remaining\n",
    "100-200 you need to pay – 100*5 = 500\n",
    "Now 200-100 you need to pay 150*10 = 1500\n",
    "Total = 500+1500 = 2000\n"
   ]
  },
  {
   "cell_type": "code",
   "execution_count": 2,
   "id": "f0d54e3c-70e6-4627-b64c-e74d993517b8",
   "metadata": {},
   "outputs": [
    {
     "name": "stdin",
     "output_type": "stream",
     "text": [
      "Enter the number of units:  630\n"
     ]
    },
    {
     "name": "stdout",
     "output_type": "stream",
     "text": [
      "Total bill amount is Rs 4300\n"
     ]
    }
   ],
   "source": [
    "units = int(input(\"Enter the number of units: \"))\n",
    "bill = 0\n",
    "\n",
    "if units > 200:\n",
    "    bill += (units - 200) * 10\n",
    "    units = 200\n",
    "if units > 100:\n",
    "    bill == (units - 100) * 5\n",
    "\n",
    "print(f\"Total bill amount is Rs {bill}\")"
   ]
  },
  {
   "cell_type": "code",
   "execution_count": null,
   "id": "1e2b1bda-d8bc-43c6-a298-c56bc8e02cb8",
   "metadata": {},
   "outputs": [],
   "source": []
  }
 ],
 "metadata": {
  "kernelspec": {
   "display_name": "Python 3 (ipykernel)",
   "language": "python",
   "name": "python3"
  },
  "language_info": {
   "codemirror_mode": {
    "name": "ipython",
    "version": 3
   },
   "file_extension": ".py",
   "mimetype": "text/x-python",
   "name": "python",
   "nbconvert_exporter": "python",
   "pygments_lexer": "ipython3",
   "version": "3.12.7"
  }
 },
 "nbformat": 4,
 "nbformat_minor": 5
}
